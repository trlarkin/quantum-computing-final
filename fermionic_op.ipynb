{
 "cells": [
  {
   "cell_type": "code",
   "execution_count": 21,
   "metadata": {},
   "outputs": [],
   "source": [
    "from qiskit_nature.second_q.operators import FermionicOp\n",
    "from qiskit_nature.second_q.mappers import JordanWignerMapper\n",
    "from qiskit.quantum_info.operators import SparsePauliOp\n",
    "from qiskit.quantum_info.operators import Pauli\n",
    "\n",
    "from qiskit import *"
   ]
  },
  {
   "cell_type": "code",
   "execution_count": null,
   "metadata": {},
   "outputs": [
    {
     "data": {
      "text/plain": [
       "array([[0.+0.j, 0.+0.j, 0.+0.j, 0.+0.j],\n",
       "       [0.+0.j, 0.+0.j, 0.+0.j, 0.+0.j],\n",
       "       [0.+0.j, 0.+0.j, 0.+0.j, 0.+0.j],\n",
       "       [0.+0.j, 0.+0.j, 0.+0.j, 1.+0.j]])"
      ]
     },
     "execution_count": 42,
     "metadata": {},
     "output_type": "execute_result"
    }
   ],
   "source": [
    "verticies = 1\n",
    "\n",
    "creation_ferms = [FermionicOp({f\"+_{i}\":number_ferms[0+verticies]1}) for i in range(0,verticies*2)]\n",
    "annihilation_ferms = [FermionicOp({f\"-_{i}\":1}) for i in range(0,verticies*2)]\n",
    "\n",
    "number_ferms = [creation_ferms[i] @ annihilation_ferms[i] for i in range(0, verticies*2)]\n",
    "def number_up_down(vertex:int , verticies:int) -> FermionicOp:\n",
    "    return number_ferms[vertex] @ number_ferms[vertex + verticies]\n",
    "\n",
    "# I = Pauli(\"I\")\n",
    "to_show = number_ferms[0+verticies]@number_ferms[0]\n",
    "JordanWignerMapper().map(to_show).to_matrix()"
   ]
  }
 ],
 "metadata": {
  "kernelspec": {
   "display_name": "akimasa-final",
   "language": "python",
   "name": "python3"
  },
  "language_info": {
   "codemirror_mode": {
    "name": "ipython",
    "version": 3
   },
   "file_extension": ".py",
   "mimetype": "text/x-python",
   "name": "python",
   "nbconvert_exporter": "python",
   "pygments_lexer": "ipython3",
   "version": "3.13.3"
  }
 },
 "nbformat": 4,
 "nbformat_minor": 2
}
