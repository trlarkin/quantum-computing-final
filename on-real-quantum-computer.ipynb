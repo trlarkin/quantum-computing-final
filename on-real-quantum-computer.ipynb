{
 "cells": [
  {
   "cell_type": "code",
   "execution_count": 11,
   "metadata": {},
   "outputs": [],
   "source": [
    "from functools import *\n",
    "import numpy as np\n",
    "import matplotlib.pyplot as plt\n",
    "import scipy as sci\n",
    "\n",
    "from defining_the_hamiltonian import fermi_hubbard_hamiltonian, swap_electron, number_up_down\n",
    "\n",
    "from qiskit.circuit.library import EfficientSU2\n",
    "from qiskit.transpiler.preset_passmanagers import generate_preset_pass_manager\n",
    "from qiskit.transpiler import PassManager\n",
    "\n",
    "from qiskit_ibm_runtime import QiskitRuntimeService, Session\n",
    "from qiskit_ibm_runtime import EstimatorV2 as Estimator\n",
    "from qiskit_ibm_runtime.fake_provider import FakeMelbourneV2\n",
    "from qiskit_ibm_runtime.fake_provider import FakeSherbrooke\n",
    "from qiskit_aer import AerSimulator\n",
    "\n",
    "from qiskit import QuantumCircuit\n",
    "from qiskit.visualization import plot_histogram\n",
    "from qiskit_ibm_runtime.sampler import SamplerV2\n",
    "from qiskit import transpile\n",
    "\n",
    "from qiskit.quantum_info.operators import SparsePauliOp\n",
    "from qiskit.circuit.library import n_local\n",
    "from qiskit.quantum_info.operators import Pauli\n",
    "from qiskit.circuit.library import RealAmplitudes\n",
    "from qiskit.circuit.library import EfficientSU2\n",
    "from qiskit.circuit.library import excitation_preserving\n",
    "\n",
    "from qiskit_nature.second_q.circuit.library import UCC\n",
    "from qiskit_nature.second_q.mappers import JordanWignerMapper\n",
    "from qiskit_nature.second_q.hamiltonians import FermiHubbardModel\n",
    "from qiskit_nature.second_q.hamiltonians.lattices import Lattice\n",
    "\n",
    "from qiskit_aer.primitives import EstimatorV2\n"
   ]
  },
  {
   "cell_type": "code",
   "execution_count": 12,
   "metadata": {},
   "outputs": [],
   "source": [
    "backend = AerSimulator()\n",
    "# sherbrooke = FakeSherbrooke()\n",
    "# backend = AerSimulator.from_backend(sherbrooke)\n"
   ]
  },
  {
   "cell_type": "code",
   "execution_count": null,
   "metadata": {},
   "outputs": [],
   "source": [
    "nodes = 6\n",
    "weighted_edges = [\n",
    "    (0,1,1),(0,2,1),(0,3,1),(0,4,1),\n",
    "    (5,1,1),(5,2,1),(5,3,1),(5,4,1),\n",
    "    (1,2,1),(2,3,1),(3,4,1),(4,1,1)\n",
    "    ]\n",
    "\n",
    "octahedron = Lattice.from_nodes_and_edges(num_nodes=nodes, weighted_edges=weighted_edges)\n",
    "lattice = octahedron.uniform_parameters(\n",
    "    uniform_interaction=-1,uniform_onsite_potential=0)\n",
    "fermi_hubb = FermiHubbardModel(octahedron, onsite_interaction=1)"
   ]
  },
  {
   "cell_type": "code",
   "execution_count": 14,
   "metadata": {},
   "outputs": [
    {
     "name": "stdout",
     "output_type": "stream",
     "text": [
      "There are 58 parameters.\n"
     ]
    }
   ],
   "source": [
    "hamiltonian = JordanWignerMapper().map(fermi_hubb.second_q_op())\n",
    "\n",
    "qc = QuantumCircuit(12)\n",
    "qc.x(0)\n",
    "qc.x(6)\n",
    "\n",
    "ansatz = qc.compose(excitation_preserving(nodes*2, reps=2, \n",
    "                                          insert_barriers=True,\n",
    "                                          skip_final_rotation_layer=False,\n",
    "                                          entanglement = \"pairwise\",\n",
    "                                          mode = \"iswap\"))\n",
    "\n",
    "ansatz.draw(\"mpl\")\n",
    "\n",
    "num_of_parameters = ansatz.num_parameters\n",
    "\n",
    "print(f\"There are {num_of_parameters} parameters.\")\n",
    "# ansatz.decompose().draw(\"mpl\", style=\"iqp\")"
   ]
  },
  {
   "cell_type": "code",
   "execution_count": 15,
   "metadata": {},
   "outputs": [],
   "source": [
    "\n",
    "pm:PassManager = generate_preset_pass_manager(backend=backend, optimization_level=3)\n",
    "\n",
    "ansatz_isa = pm.run(ansatz)\n",
    "hamiltonian_isa = hamiltonian.apply_layout(layout=ansatz_isa.layout)\n"
   ]
  },
  {
   "cell_type": "code",
   "execution_count": 16,
   "metadata": {},
   "outputs": [],
   "source": [
    "cost_history_dict = {\n",
    "    \"prev_vector\": None,\n",
    "    \"iters\": 0,\n",
    "    \"cost_history\": [],\n",
    "}\n",
    "\n",
    "def cost_func(params, ansatz, hamiltonian, estimator):\n",
    "    \"\"\"Return estimate of energy from estimator\n",
    "\n",
    "    Parameters:\n",
    "        params (ndarray): Array of ansatz parameters\n",
    "        ansatz (QuantumCircuit): Parameterized ansatz circuit\n",
    "        hamiltonian (SparsePauliOp): Operator representation of Hamiltonian\n",
    "        estimator (EstimatorV2): Estimator primitive instance\n",
    "        cost_history_dict: Dictionary for storing intermediate results\n",
    "\n",
    "    Returns:\n",
    "        float: Energy estimate\n",
    "    \"\"\"\n",
    "    pub = (ansatz, [hamiltonian], [params])\n",
    "    result = estimator.run(pubs=[pub]).result()\n",
    "    energy = result[0].data.evs[0]\n",
    "\n",
    "    cost_history_dict[\"iters\"] += 1\n",
    "    cost_history_dict[\"prev_vector\"] = params\n",
    "    cost_history_dict[\"cost_history\"].append(energy)\n",
    "    print(f\"Iters. done: {cost_history_dict['iters']} [Current cost: {energy}]\")\n",
    "\n",
    "    return energy"
   ]
  },
  {
   "cell_type": "code",
   "execution_count": 17,
   "metadata": {},
   "outputs": [
    {
     "data": {
      "text/plain": [
       "58"
      ]
     },
     "execution_count": 17,
     "metadata": {},
     "output_type": "execute_result"
    }
   ],
   "source": [
    "x0 = np.array([ 3.81753823,  4.82121225,  4.67535109,  3.0675717 ,  3.46028147,\n",
    "        2.2842241 ,  2.28068808,  2.93173167,  4.45084888,  3.59009141,\n",
    "        6.22908827,  0.69924701,  4.02079642,  1.27397888,  4.55890384,\n",
    "        1.8248962 ,  1.50390195,  4.79395989,  0.98523768,  6.11700762,\n",
    "        0.13819355,  7.01209955,  5.33633725,  0.65456489,  1.20210642,\n",
    "        0.83180232,  5.82866698,  5.19575042,  3.31176441,  5.50647245,\n",
    "        2.76759528,  2.94891426,  3.90298021,  5.33175021,  4.30725485,\n",
    "        5.01166516,  1.24604705,  3.44888302,  5.73396634,  5.35505843,\n",
    "       -0.28159186,  4.28582381,  5.46612932, -0.11433386,  4.83048706,\n",
    "        4.14032701,  2.36388634,  4.38384209,  6.34758701,  7.05600274,\n",
    "        5.77834296,  4.9689087 ,  3.62937989,  5.05953697,  3.79919937,\n",
    "        1.58854063,  3.4267587 ,  7.68951643])\n",
    "len(x0)"
   ]
  },
  {
   "cell_type": "code",
   "execution_count": 20,
   "metadata": {},
   "outputs": [
    {
     "name": "stdout",
     "output_type": "stream",
     "text": [
      "3.185546875\n"
     ]
    }
   ],
   "source": [
    "estimator = Estimator(backend)\n",
    "pub = (ansatz_isa, [hamiltonian_isa], x0)\n",
    "result = estimator.run(pubs=[pub]).result()\n",
    "energy = result[0].data.evs[0]\n",
    "print(energy)"
   ]
  },
  {
   "cell_type": "code",
   "execution_count": 19,
   "metadata": {},
   "outputs": [],
   "source": [
    "# with Session(backend=backend) as session:\n",
    "#     estimator = Estimator(mode=session)\n",
    "#     estimator.options.default_shots = 4000\n",
    "\n",
    "#     res = sci.optimize.minimize(\n",
    "#         cost_func,\n",
    "#         x0,\n",
    "#         args=(ansatz_isa, hamiltonian_isa, estimator),\n",
    "#         method=\"cobyla\",\n",
    "#     )\n",
    "# print(\"done\")"
   ]
  }
 ],
 "metadata": {
  "kernelspec": {
   "display_name": "akimasa-final",
   "language": "python",
   "name": "python3"
  },
  "language_info": {
   "codemirror_mode": {
    "name": "ipython",
    "version": 3
   },
   "file_extension": ".py",
   "mimetype": "text/x-python",
   "name": "python",
   "nbconvert_exporter": "python",
   "pygments_lexer": "ipython3",
   "version": "3.13.3"
  }
 },
 "nbformat": 4,
 "nbformat_minor": 2
}
