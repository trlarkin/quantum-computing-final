{
 "cells": [
  {
   "cell_type": "markdown",
   "metadata": {},
   "source": [
    "Hamiltonians From Scratch*\n",
    "===========================\n",
    "*Its not really from scratch because I use the FermionicOp class to make it work\n",
    "\n",
    "This is an alternative to the `qiskis_nature` Fermi-Hubbard Hamiltonian. I get the same ground state energies but a different ground state vector. To use this hamiltonian import it from the .py file [here](./defining_the_hamiltonian.py) "
   ]
  },
  {
   "cell_type": "code",
   "execution_count": 1,
   "metadata": {},
   "outputs": [],
   "source": [
    "from qiskit import *\n",
    "from qiskit.quantum_info.operators import SparsePauliOp\n",
    "from qiskit.quantum_info.operators import Pauli\n",
    "from qiskit.quantum_info import Operator\n",
    "from qiskit_nature.second_q.operators import FermionicOp\n",
    "from qiskit_nature.second_q.mappers import JordanWignerMapper\n",
    "\n",
    "import numpy as np\n",
    "from functools import *\n",
    "import scipy.linalg as LA"
   ]
  },
  {
   "cell_type": "code",
   "execution_count": null,
   "metadata": {},
   "outputs": [],
   "source": [
    "# Fermionic operators that we need\n",
    "creation_ferms = [FermionicOp({f\"+_{i}\":1}) for i in range(0,12)]\n",
    "annihilation_ferms = [FermionicOp({f\"-_{i}\":1}) for i in range(0,12)]\n",
    "number_ferms = [creation_ferms[i] @ annihilation_ferms[i] for i in range(0, 12)]"
   ]
  },
  {
   "cell_type": "code",
   "execution_count": null,
   "metadata": {},
   "outputs": [
    {
     "data": {
      "text/plain": [
       "FermionicOp({'+_0 -_1': 1, '+_1 -_0': 1, '+_6 -_7': 1, '+_7 -_6': 1, '+_0 -_2': 1, '+_2 -_0': 1, '+_6 -_8': 1, '+_8 -_6': 1, '+_0 -_3': 1, '+_3 -_0': 1, '+_9 -_6': 1, '+_6 -_9': 1, '+_0 -_4': 1, '+_4 -_0': 1, '+_10 -_6': 1, '+_6 -_10': 1, '+_1 -_5': 1, '+_5 -_1': 1, '+_11 -_7': 1, '+_7 -_11': 1, '+_5 -_2': 1, '+_2 -_5': 1, '+_11 -_8': 1, '+_8 -_11': 1, '+_5 -_3': 1, '+_3 -_5': 1, '+_9 -_11': 1, '+_11 -_9': 1, '+_4 -_5': 1, '+_5 -_4': 1, '+_11 -_10': 1, '+_10 -_11': 1, '+_2 -_1': 1, '+_1 -_2': 1, '+_7 -_8': 1, '+_8 -_7': 1, '+_2 -_3': 1, '+_3 -_2': 1, '+_8 -_9': 1, '+_9 -_8': 1, '+_4 -_3': 1, '+_3 -_4': 1, '+_9 -_10': 1, '+_10 -_9': 1, '+_1 -_4': 1, '+_4 -_1': 1, '+_7 -_10': 1, '+_10 -_7': 1}, num_spin_orbitals=12, )"
      ]
     },
     "execution_count": 61,
     "metadata": {},
     "output_type": "execute_result"
    }
   ],
   "source": [
    "\n",
    "verticies = 6\n",
    "spins = [0,1]\n",
    "edges = [(0,1),(0,2),(0,3),(0,4),\n",
    "         (5,1),(5,2),(5,3),(5,4),\n",
    "         (1,2),(2,3),(3,4),(4,1)]\n",
    "\n",
    "myTensor = lambda a, b: (a)^(b)\n",
    "\n",
    "def swap_electron(edge:tuple[int, int], s:int, verticies:int) -> FermionicOp:\n",
    "    \"\"\"Swaps the electron in spin state s in vertex i and vertex j.\"\"\"\n",
    "    (i, j) = edge\n",
    "    swap_1 = creation_ferms[i+verticies*s] @ annihilation_ferms[j+verticies*s]\n",
    "    swap_2 = creation_ferms[j+verticies*s] @ annihilation_ferms[i+verticies*s]\n",
    "    return swap_1 + swap_2\n",
    "\n",
    "def number_up_down(vertex:int , verticies:int) -> FermionicOp:\n",
    "    return number_ferms[vertex + verticies] @ number_ferms[vertex]\n",
    "\n",
    "total_swap_operator:FermionicOp = reduce(lambda a, b: (a) + (b), \n",
    "                             [swap_electron(edge, s, verticies) for edge in edges for s in spins])\n",
    "total_number_operator:FermionicOp = reduce(lambda a, b: (a) + (b), \n",
    "                               [number_up_down(i, verticies) for i in range(0, verticies)])\n",
    "\n",
    "t = 1\n",
    "u = 1\n",
    "hamiltonian_ferm = -t*total_swap_operator + u*total_number_operator\n",
    "hamiltonian = JordanWignerMapper().map(hamiltonian_ferm)\n"
   ]
  },
  {
   "cell_type": "code",
   "execution_count": 62,
   "metadata": {},
   "outputs": [
    {
     "name": "stdout",
     "output_type": "stream",
     "text": [
      "Dims in hamiltonian: (4096, 4096)\n",
      "hamiltonian hermitian?: True\n"
     ]
    }
   ],
   "source": [
    "print(\"Dims in hamiltonian:\", hamiltonian.dim)\n",
    "print(\"hamiltonian hermitian?:\", Operator(hamiltonian) == Operator(hamiltonian).adjoint())"
   ]
  },
  {
   "cell_type": "code",
   "execution_count": 63,
   "metadata": {},
   "outputs": [],
   "source": [
    "H_matrix = hamiltonian.to_matrix()\n",
    "eigs = LA.eigh(H_matrix)\n"
   ]
  },
  {
   "cell_type": "code",
   "execution_count": 64,
   "metadata": {},
   "outputs": [],
   "source": [
    "eigenvals, eigenvectors = eigs"
   ]
  },
  {
   "cell_type": "code",
   "execution_count": 250,
   "metadata": {},
   "outputs": [
    {
     "name": "stdout",
     "output_type": "stream",
     "text": [
      "[-7.36710929 -7.08262565 -7.05051053 -7.05051053 -6.91125277 -6.91125277\n",
      " -6.91125277 -6.91125277 -6.91125277]\n",
      "[11.04524552 11.04524552 11.07417788 11.36486336 11.36486336 11.36486336\n",
      " 11.36486336 11.36486336 11.36486336 12.18284163]\n"
     ]
    }
   ],
   "source": [
    "print(eigenvals[26:35])\n",
    "print(eigenvals[-10:])\n"
   ]
  },
  {
   "cell_type": "code",
   "execution_count": 260,
   "metadata": {},
   "outputs": [
    {
     "data": {
      "text/plain": [
       "[(np.complex128(-0.07923727778936213-0j), '000011000011'),\n",
       " (np.complex128(-0.07957568456834961-0j), '000011000101'),\n",
       " (np.complex128(0.012219776107149303-0j), '000011000110'),\n",
       " (np.complex128(0.09637489189435634-0j), '000011001010'),\n",
       " (np.complex128(0.09332685866424223-0j), '000011001100'),\n",
       " (np.complex128(-0.013219787441995997-0j), '000011010001'),\n",
       " (np.complex128(0.08057569590320274-0j), '000011010010'),\n",
       " (np.complex128(0.07673866282010688-0j), '000011010100'),\n",
       " (np.complex128(-0.015343701226979716-0j), '000011011000'),\n",
       " (np.complex128(-0.09637489189434974-0j), '000011100001'),\n",
       " (np.complex128(-0.0157838319854981-0j), '000011100100'),\n",
       " (np.complex128(-0.10863962566456449-0j), '000011101000'),\n",
       " (np.complex128(-0.09288672790571646-0j), '000011110000'),\n",
       " (np.complex128(-0.07957568456836259-0j), '000101000011'),\n",
       " (np.complex128(-0.043285490932380155-0j), '000101000101'),\n",
       " (np.complex128(0.031057937524333747-0j), '000101000110'),\n",
       " (np.complex128(0.028883665933549522-0j), '000101001001'),\n",
       " (np.complex128(0.12604501099155027-0j), '000101001010'),\n",
       " (np.complex128(0.08174995615913898-0j), '000101001100'),\n",
       " (np.complex128(0.09384368086329166-0j), '000101010010'),\n",
       " (np.complex128(0.05264737287279538-0j), '000101010100'),\n",
       " (np.complex128(-0.034479469143500044-0j), '000101011000'),\n",
       " (np.complex128(-0.0526473728728036-0j), '000101100001'),\n",
       " (np.complex128(0.03352251618593057-0j), '000101100010'),\n",
       " (np.complex128(-0.09288672790573149-0j), '000101101000'),\n",
       " (np.complex128(-0.05934731306773915-0j), '000101110000'),\n",
       " (np.complex128(0.012219776107136392-0j), '000110000011'),\n",
       " (np.complex128(0.031057937524320997-0j), '000110000101'),\n",
       " (np.complex128(0.012668603250521526-0j), '000110000110'),\n",
       " (np.complex128(0.03271815232729299-0j), '000110001001'),\n",
       " (np.complex128(0.015408596847149986-0j), '000110001010'),\n",
       " (np.complex128(0.017105018043169752-0j), '000110010001'),\n",
       " (np.complex128(-0.015408596847138653-0j), '000110010100'),\n",
       " (np.complex128(-0.017369505278667253-0j), '000110011000'),\n",
       " (np.complex128(0.049306348171413494-0j), '000110100001'),\n",
       " (np.complex128(0.02705608865019861-0j), '000110100010'),\n",
       " (np.complex128(0.0162216249812696-0j), '000110100100'),\n",
       " (np.complex128(0.015343701226964707-0j), '000110101000'),\n",
       " (np.complex128(0.0344794691434851-0j), '000110110000'),\n",
       " (np.complex128(0.02888366593354476-0j), '001001000101'),\n",
       " (np.complex128(0.03271815232729534-0j), '001001000110'),\n",
       " (np.complex128(0.07923727778936264-0j), '001001001001'),\n",
       " (np.complex128(0.09637489189435684-0j), '001001001010'),\n",
       " (np.complex128(0.06573938336015175-0j), '001001001100'),\n",
       " (np.complex128(0.06391180607680158-0j), '001001010001'),\n",
       " (np.complex128(0.07595240756392727-0j), '001001010010'),\n",
       " (np.complex128(0.04198976061947632-0j), '001001010100'),\n",
       " (np.complex128(-0.027056088650200767-0j), '001001011000'),\n",
       " (np.complex128(0.0963748918943504-0j), '001001100001'),\n",
       " (np.complex128(0.10863962566456525-0j), '001001100010'),\n",
       " (np.complex128(0.07514804370529003-0j), '001001100100'),\n",
       " (np.complex128(0.033522516185925236-0j), '001001110000'),\n",
       " (np.complex128(0.09637489189434986-0j), '001010000011'),\n",
       " (np.complex128(0.12604501099153018-0j), '001010000101'),\n",
       " (np.complex128(0.015408596847138826-0j), '001010000110'),\n",
       " (np.complex128(0.09637489189435035-0j), '001010001001'),\n",
       " (np.complex128(-0.015408596847138358-0j), '001010001100'),\n",
       " (np.complex128(0.0912961087908995-0j), '001010010001'),\n",
       " (np.complex128(-0.015408596847138408-0j), '001010010010'),\n",
       " (np.complex128(-0.03473901055732162-0j), '001010010100'),\n",
       " (np.complex128(-0.015408596847138922-0j), '001010011000'),\n",
       " (np.complex128(0.21727925132912243-0j), '001010100001'),\n",
       " (np.complex128(0.09637489189435033-0j), '001010100010'),\n",
       " (np.complex128(0.09129610879089962-0j), '001010100100'),\n",
       " (np.complex128(0.09637489189434978-0j), '001010101000'),\n",
       " (np.complex128(0.12604501099153023-0j), '001010110000'),\n",
       " (np.complex128(0.09332685866424976-0j), '001100000011'),\n",
       " (np.complex128(0.08174995615913433-0j), '001100000101'),\n",
       " (np.complex128(0.06573938336014762-0j), '001100001001'),\n",
       " (np.complex128(-0.015408596847149484-0j), '001100001010'),\n",
       " (np.complex128(-0.012668603250521342-0j), '001100001100'),\n",
       " (np.complex128(0.07646922976297102-0j), '001100010001'),\n",
       " (np.complex128(-0.017369505278666954-0j), '001100010010'),\n",
       " (np.complex128(-0.015408596847138653-0j), '001100010100'),\n",
       " (np.complex128(0.16803477161101607-0j), '001100100001'),\n",
       " (np.complex128(0.07595240756392217-0j), '001100100010'),\n",
       " (np.complex128(0.066913643616083-0j), '001100100100'),\n",
       " (np.complex128(0.08057569590320933-0j), '001100101000'),\n",
       " (np.complex128(0.0938436808632864-0j), '001100110000'),\n",
       " (np.complex128(-0.013219787441989565-0j), '010001000011'),\n",
       " (np.complex128(0.017105018043172198-0j), '010001000110'),\n",
       " (np.complex128(0.06391180607680315-0j), '010001001001'),\n",
       " (np.complex128(0.09129610879089456-0j), '010001001010'),\n",
       " (np.complex128(0.07646922976296387-0j), '010001001100'),\n",
       " (np.complex128(0.04328549093238043-0j), '010001010001'),\n",
       " (np.complex128(0.06691364361607696-0j), '010001010010'),\n",
       " (np.complex128(0.05264737287279537-0j), '010001010100'),\n",
       " (np.complex128(-0.01622162498127179-0j), '010001011000'),\n",
       " (np.complex128(0.052647372872804146-0j), '010001100001'),\n",
       " (np.complex128(0.07514804370529216-0j), '010001100010'),\n",
       " (np.complex128(0.05934731306773951-0j), '010001100100'),\n",
       " (np.complex128(-0.015783831985490576-0j), '010001101000'),\n",
       " (np.complex128(0.08057569590320926-0j), '010010000011'),\n",
       " (np.complex128(0.0938436808632863-0j), '010010000101'),\n",
       " (np.complex128(0.07595240756392221-0j), '010010001001'),\n",
       " (np.complex128(-0.015408596847149406-0j), '010010001010'),\n",
       " (np.complex128(-0.01736950527866687-0j), '010010001100'),\n",
       " (np.complex128(0.06691364361608297-0j), '010010010001'),\n",
       " (np.complex128(-0.012668603250521304-0j), '010010010010'),\n",
       " (np.complex128(-0.015408596847138642-0j), '010010010100'),\n",
       " (np.complex128(0.16803477161101602-0j), '010010100001'),\n",
       " (np.complex128(0.06573938336014763-0j), '010010100010'),\n",
       " (np.complex128(0.07646922976297106-0j), '010010100100'),\n",
       " (np.complex128(0.09332685866424972-0j), '010010101000'),\n",
       " (np.complex128(0.08174995615913429-0j), '010010110000'),\n",
       " (np.complex128(0.07673866282012903-0j), '010100000011'),\n",
       " (np.complex128(0.0526473728728038-0j), '010100000101'),\n",
       " (np.complex128(-0.01540859684714971-0j), '010100000110'),\n",
       " (np.complex128(0.04198976061947337-0j), '010100001001'),\n",
       " (np.complex128(-0.034739010557346656-0j), '010100001010'),\n",
       " (np.complex128(-0.015408596847149712-0j), '010100001100'),\n",
       " (np.complex128(0.05264737287280385-0j), '010100010001'),\n",
       " (np.complex128(-0.015408596847149712-0j), '010100010010'),\n",
       " (np.complex128(0.0154085968471497-0j), '010100011000'),\n",
       " (np.complex128(0.11869462613548826-0j), '010100100001'),\n",
       " (np.complex128(0.04198976061947337-0j), '010100100010'),\n",
       " (np.complex128(0.052647372872803876-0j), '010100100100'),\n",
       " (np.complex128(0.07673866282012913-0j), '010100101000'),\n",
       " (np.complex128(0.052647372872803876-0j), '010100110000'),\n",
       " (np.complex128(-0.01534370122696487-0j), '011000000011'),\n",
       " (np.complex128(-0.034479469143485195-0j), '011000000101'),\n",
       " (np.complex128(-0.017369505278667204-0j), '011000000110'),\n",
       " (np.complex128(-0.02705608865019857-0j), '011000001001'),\n",
       " (np.complex128(-0.01540859684714994-0j), '011000001010'),\n",
       " (np.complex128(-0.016221624981269615-0j), '011000010001'),\n",
       " (np.complex128(0.015408596847138658-0j), '011000010100'),\n",
       " (np.complex128(0.012668603250521545-0j), '011000011000'),\n",
       " (np.complex128(-0.049306348171413585-0j), '011000100001'),\n",
       " (np.complex128(-0.03271815232729297-0j), '011000100010'),\n",
       " (np.complex128(-0.01710501804316979-0j), '011000100100'),\n",
       " (np.complex128(-0.012219776107136435-0j), '011000101000'),\n",
       " (np.complex128(-0.031057937524320928-0j), '011000110000'),\n",
       " (np.complex128(-0.09637489189435647-0j), '100001000011'),\n",
       " (np.complex128(-0.05264737287279503-0j), '100001000101'),\n",
       " (np.complex128(0.04930634817143078-0j), '100001000110'),\n",
       " (np.complex128(0.09637489189435709-0j), '100001001001'),\n",
       " (np.complex128(0.21727925132913758-0j), '100001001010'),\n",
       " (np.complex128(0.16803477161101402-0j), '100001001100'),\n",
       " (np.complex128(0.052647372872795695-0j), '100001010001'),\n",
       " (np.complex128(0.168034771611014-0j), '100001010010'),\n",
       " (np.complex128(0.11869462613546901-0j), '100001010100'),\n",
       " (np.complex128(-0.049306348171430765-0j), '100001011000'),\n",
       " (np.complex128(0.09637489189435701-0j), '100001100010'),\n",
       " (np.complex128(0.05264737287279578-0j), '100001100100'),\n",
       " (np.complex128(-0.09637489189435638-0j), '100001101000'),\n",
       " (np.complex128(-0.052647372872795056-0j), '100001110000'),\n",
       " (np.complex128(0.033522516185925236-0j), '100010000101'),\n",
       " (np.complex128(0.027056088650200802-0j), '100010000110'),\n",
       " (np.complex128(0.10863962566456536-0j), '100010001001'),\n",
       " (np.complex128(0.09637489189435702-0j), '100010001010'),\n",
       " (np.complex128(0.07595240756392735-0j), '100010001100'),\n",
       " (np.complex128(0.07514804370529-0j), '100010010001'),\n",
       " (np.complex128(0.06573938336015178-0j), '100010010010'),\n",
       " (np.complex128(0.04198976061947628-0j), '100010010100'),\n",
       " (np.complex128(-0.032718152327295455-0j), '100010011000'),\n",
       " (np.complex128(0.09637489189435039-0j), '100010100001'),\n",
       " (np.complex128(0.07923727778936267-0j), '100010100010'),\n",
       " (np.complex128(0.06391180607680155-0j), '100010100100'),\n",
       " (np.complex128(0.028883665933544734-0j), '100010110000'),\n",
       " (np.complex128(-0.015783831985490566-0j), '100100000011'),\n",
       " (np.complex128(0.01622162498127181-0j), '100100000110'),\n",
       " (np.complex128(0.07514804370529224-0j), '100100001001'),\n",
       " (np.complex128(0.09129610879089456-0j), '100100001010'),\n",
       " (np.complex128(0.06691364361607698-0j), '100100001100'),\n",
       " (np.complex128(0.059347313067739514-0j), '100100010001'),\n",
       " (np.complex128(0.07646922976296386-0j), '100100010010'),\n",
       " (np.complex128(0.05264737287279537-0j), '100100010100'),\n",
       " (np.complex128(-0.017105018043172198-0j), '100100011000'),\n",
       " (np.complex128(0.05264737287280421-0j), '100100100001'),\n",
       " (np.complex128(0.06391180607680315-0j), '100100100010'),\n",
       " (np.complex128(0.043285490932380474-0j), '100100100100'),\n",
       " (np.complex128(-0.01321978744198947-0j), '100100101000'),\n",
       " (np.complex128(-0.10863962566456464-0j), '101000000011'),\n",
       " (np.complex128(-0.09288672790571645-0j), '101000000101'),\n",
       " (np.complex128(0.015343701226979777-0j), '101000000110'),\n",
       " (np.complex128(0.09637489189435654-0j), '101000001010'),\n",
       " (np.complex128(0.08057569590320288-0j), '101000001100'),\n",
       " (np.complex128(-0.015783831985497963-0j), '101000010001'),\n",
       " (np.complex128(0.09332685866424235-0j), '101000010010'),\n",
       " (np.complex128(0.07673866282010701-0j), '101000010100'),\n",
       " (np.complex128(-0.012219776107149239-0j), '101000011000'),\n",
       " (np.complex128(-0.09637489189434972-0j), '101000100001'),\n",
       " (np.complex128(-0.013219787441996016-0j), '101000100100'),\n",
       " (np.complex128(-0.07923727778936214-0j), '101000101000'),\n",
       " (np.complex128(-0.07957568456834968-0j), '101000110000'),\n",
       " (np.complex128(-0.09288672790573144-0j), '110000000011'),\n",
       " (np.complex128(-0.0593473130677391-0j), '110000000101'),\n",
       " (np.complex128(0.03447946914350007-0j), '110000000110'),\n",
       " (np.complex128(0.03352251618593064-0j), '110000001001'),\n",
       " (np.complex128(0.12604501099155027-0j), '110000001010'),\n",
       " (np.complex128(0.0938436808632917-0j), '110000001100'),\n",
       " (np.complex128(0.08174995615913894-0j), '110000010010'),\n",
       " (np.complex128(0.052647372872795375-0j), '110000010100'),\n",
       " (np.complex128(-0.031057937524333716-0j), '110000011000'),\n",
       " (np.complex128(-0.05264737287280353-0j), '110000100001'),\n",
       " (np.complex128(0.028883665933549508-0j), '110000100010'),\n",
       " (np.complex128(-0.07957568456836257-0j), '110000101000'),\n",
       " (np.complex128(-0.04328549093238015-0j), '110000110000')]"
      ]
     },
     "execution_count": 260,
     "metadata": {},
     "output_type": "execute_result"
    }
   ],
   "source": [
    "ground_state = [(x, f\"{i:012b}\") for i,x in enumerate(eigenvectors[:, 8]) if abs(x) > 1e-8]\n",
    "(ground_state)"
   ]
  },
  {
   "cell_type": "code",
   "execution_count": null,
   "metadata": {},
   "outputs": [
    {
     "name": "stdout",
     "output_type": "stream",
     "text": [
      "c0:(-0.15253406813364298+0j)\n",
      "c1:(-0.16869036372022123+0j)\n",
      "c2:(-0.17197171126969088+0j)\n"
     ]
    },
    {
     "data": {
      "text/plain": [
       "(np.complex128(-0.16869036372022123+0j), '000001000010')"
      ]
     },
     "execution_count": 117,
     "metadata": {},
     "output_type": "execute_result"
    }
   ],
   "source": [
    "(c0, _) = ground_state[0] # same node\n",
    "c0_elements = [(c, i) for c,i in ground_state if c0-1e-5 < c < c0+1e-5]\n",
    "\n",
    "(c1, _) = ground_state[1] # adjacemt nodes\n",
    "c1_elements = [(c, i) for c,i in ground_state if c1-1e-5 < c < c1+1e-5]\n",
    "\n",
    "(c2, _) = ground_state[19] # oposite nodes\n",
    "c2_elements = [(c, i) for c,i in ground_state if c2-1e-5 < c < c2+1e-5]\n",
    "\n",
    "print(f\"c0:{c0}\")\n",
    "print(f\"c1:{c1}\")\n",
    "print(f\"c2:{c2}\")\n",
    "\n",
    "ground_state[1]"
   ]
  },
  {
   "cell_type": "code",
   "execution_count": 210,
   "metadata": {},
   "outputs": [
    {
     "data": {
      "text/plain": [
       "438"
      ]
     },
     "execution_count": 210,
     "metadata": {},
     "output_type": "execute_result"
    }
   ],
   "source": [
    "def num_of_ones(s:str) -> int:\n",
    "    return len(list(filter(lambda x: x=='1', s)))\n",
    "\n",
    "len(list(filter(lambda x: x==4, [num_of_ones(s) for c,s in ground_state])))"
   ]
  }
 ],
 "metadata": {
  "kernelspec": {
   "display_name": "akimasa-final",
   "language": "python",
   "name": "python3"
  },
  "language_info": {
   "codemirror_mode": {
    "name": "ipython",
    "version": 3
   },
   "file_extension": ".py",
   "mimetype": "text/x-python",
   "name": "python",
   "nbconvert_exporter": "python",
   "pygments_lexer": "ipython3",
   "version": "3.13.3"
  }
 },
 "nbformat": 4,
 "nbformat_minor": 2
}
