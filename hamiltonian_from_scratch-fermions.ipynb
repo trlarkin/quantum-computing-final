{
 "cells": [
  {
   "cell_type": "code",
   "execution_count": 1,
   "metadata": {},
   "outputs": [],
   "source": [
    "from qiskit import *\n",
    "from qiskit.quantum_info.operators import SparsePauliOp\n",
    "from qiskit.quantum_info.operators import Pauli\n",
    "from qiskit.quantum_info import Operator\n",
    "from qiskit_nature.second_q.operators import FermionicOp\n",
    "from qiskit_nature.second_q.mappers import JordanWignerMapper\n",
    "\n",
    "import numpy as np\n",
    "from functools import *\n",
    "import scipy.linalg as LA"
   ]
  },
  {
   "cell_type": "code",
   "execution_count": null,
   "metadata": {},
   "outputs": [],
   "source": [
    "# Fermionic operators that we need\n",
    "creation_ferms = [FermionicOp({f\"+_{i}\":1}) for i in range(0,12)]\n",
    "annihilation_ferms = [FermionicOp({f\"-_{i}\":1}) for i in range(0,12)]\n",
    "number_ferms = [creation_ferms[i] @ annihilation_ferms[i] for i in range(0, 12)]"
   ]
  },
  {
   "cell_type": "code",
   "execution_count": null,
   "metadata": {},
   "outputs": [
    {
     "data": {
      "text/plain": [
       "FermionicOp({'+_0 -_1': 1, '+_1 -_0': 1, '+_6 -_7': 1, '+_7 -_6': 1, '+_0 -_2': 1, '+_2 -_0': 1, '+_6 -_8': 1, '+_8 -_6': 1, '+_0 -_3': 1, '+_3 -_0': 1, '+_9 -_6': 1, '+_6 -_9': 1, '+_0 -_4': 1, '+_4 -_0': 1, '+_10 -_6': 1, '+_6 -_10': 1, '+_1 -_5': 1, '+_5 -_1': 1, '+_11 -_7': 1, '+_7 -_11': 1, '+_5 -_2': 1, '+_2 -_5': 1, '+_11 -_8': 1, '+_8 -_11': 1, '+_5 -_3': 1, '+_3 -_5': 1, '+_9 -_11': 1, '+_11 -_9': 1, '+_4 -_5': 1, '+_5 -_4': 1, '+_11 -_10': 1, '+_10 -_11': 1, '+_2 -_1': 1, '+_1 -_2': 1, '+_7 -_8': 1, '+_8 -_7': 1, '+_2 -_3': 1, '+_3 -_2': 1, '+_8 -_9': 1, '+_9 -_8': 1, '+_4 -_3': 1, '+_3 -_4': 1, '+_9 -_10': 1, '+_10 -_9': 1, '+_1 -_4': 1, '+_4 -_1': 1, '+_7 -_10': 1, '+_10 -_7': 1}, num_spin_orbitals=12, )"
      ]
     },
     "execution_count": 61,
     "metadata": {},
     "output_type": "execute_result"
    }
   ],
   "source": [
    "\n",
    "verticies = 6\n",
    "spins = [0,1]\n",
    "edges = [(0,1),(0,2),(0,3),(0,4),\n",
    "         (5,1),(5,2),(5,3),(5,4),\n",
    "         (1,2),(2,3),(3,4),(4,1)]\n",
    "\n",
    "myTensor = lambda a, b: (a)^(b)\n",
    "\n",
    "def swap_electron(edge:tuple[int, int], s:int, verticies:int) -> FermionicOp:\n",
    "    \"\"\"Swaps the electron in spin state s in vertex i and vertex j.\"\"\"\n",
    "    (i, j) = edge\n",
    "    swap_1 = creation_ferms[i+verticies*s] @ annihilation_ferms[j+verticies*s]\n",
    "    swap_2 = creation_ferms[j+verticies*s] @ annihilation_ferms[i+verticies*s]\n",
    "    return swap_1 + swap_2\n",
    "\n",
    "def number_up_down(vertex:int , verticies:int) -> FermionicOp:\n",
    "    return number_ferms[vertex + verticies] @ number_ferms[vertex]\n",
    "\n",
    "total_swap_operator:FermionicOp = reduce(lambda a, b: (a) + (b), \n",
    "                             [swap_electron(edge, s, verticies) for edge in edges for s in spins])\n",
    "total_number_operator:FermionicOp = reduce(lambda a, b: (a) + (b), \n",
    "                               [number_up_down(i, verticies) for i in range(0, verticies)])\n",
    "\n",
    "t = 1\n",
    "u = 1\n",
    "hamiltonian_ferm = -t*total_swap_operator + u*total_number_operator\n",
    "hamiltonian = JordanWignerMapper().map(hamiltonian_ferm)\n"
   ]
  },
  {
   "cell_type": "code",
   "execution_count": 62,
   "metadata": {},
   "outputs": [
    {
     "name": "stdout",
     "output_type": "stream",
     "text": [
      "Dims in hamiltonian: (4096, 4096)\n",
      "hamiltonian hermitian?: True\n"
     ]
    }
   ],
   "source": [
    "print(\"Dims in hamiltonian:\", hamiltonian.dim)\n",
    "print(\"hamiltonian hermitian?:\", Operator(hamiltonian) == Operator(hamiltonian).adjoint())"
   ]
  },
  {
   "cell_type": "code",
   "execution_count": 63,
   "metadata": {},
   "outputs": [],
   "source": [
    "H_matrix = hamiltonian.to_matrix()\n",
    "eigs = LA.eigh(H_matrix)\n"
   ]
  },
  {
   "cell_type": "code",
   "execution_count": 64,
   "metadata": {},
   "outputs": [],
   "source": [
    "eigenvals, eigenvectors = eigs"
   ]
  },
  {
   "cell_type": "code",
   "execution_count": 119,
   "metadata": {},
   "outputs": [
    {
     "name": "stdout",
     "output_type": "stream",
     "text": [
      "[-7.84735408 -7.69523526 -7.69523526 -7.69523526 -7.69523526 -7.69523526\n",
      " -7.69523526 -7.549564   -7.549564   -7.549564  ]\n",
      "[11.04524552 11.04524552 11.07417788 11.36486336 11.36486336 11.36486336\n",
      " 11.36486336 11.36486336 11.36486336 12.18284163]\n"
     ]
    }
   ],
   "source": [
    "print(eigenvals[0:10])\n",
    "print(eigenvals[-10:])\n"
   ]
  },
  {
   "cell_type": "code",
   "execution_count": 99,
   "metadata": {},
   "outputs": [
    {
     "data": {
      "text/plain": [
       "[(np.complex128(-0.15253406813364298+0j), '000001000001'),\n",
       " (np.complex128(-0.16869036372022123+0j), '000001000010'),\n",
       " (np.complex128(-0.16869036372022123+0j), '000001000100'),\n",
       " (np.complex128(-0.16869036372022123+0j), '000001001000'),\n",
       " (np.complex128(-0.1686903637202212+0j), '000001010000'),\n",
       " (np.complex128(-0.17197171126969077+0j), '000001100000'),\n",
       " (np.complex128(-0.16869036372022123+0j), '000010000001'),\n",
       " (np.complex128(-0.15253406813364292+0j), '000010000010'),\n",
       " (np.complex128(-0.1686903637202212+0j), '000010000100'),\n",
       " (np.complex128(-0.1719717112696908+0j), '000010001000'),\n",
       " (np.complex128(-0.1686903637202212+0j), '000010010000'),\n",
       " (np.complex128(-0.16869036372022125+0j), '000010100000'),\n",
       " (np.complex128(-0.16869036372022123-0j), '000100000001'),\n",
       " (np.complex128(-0.16869036372022114-0j), '000100000010'),\n",
       " (np.complex128(-0.1525340681336429-0j), '000100000100'),\n",
       " (np.complex128(-0.1686903637202212+0j), '000100001000'),\n",
       " (np.complex128(-0.1719717112696908+0j), '000100010000'),\n",
       " (np.complex128(-0.16869036372022125+0j), '000100100000'),\n",
       " (np.complex128(-0.16869036372022117+0j), '001000000001'),\n",
       " (np.complex128(-0.17197171126969088+0j), '001000000010'),\n",
       " (np.complex128(-0.16869036372022114+0j), '001000000100'),\n",
       " (np.complex128(-0.1525340681336429+0j), '001000001000'),\n",
       " (np.complex128(-0.1686903637202212-0j), '001000010000'),\n",
       " (np.complex128(-0.1686903637202212+0j), '001000100000'),\n",
       " (np.complex128(-0.16869036372022123+0j), '010000000001'),\n",
       " (np.complex128(-0.16869036372022128+0j), '010000000010'),\n",
       " (np.complex128(-0.17197171126969077-0j), '010000000100'),\n",
       " (np.complex128(-0.16869036372022123+0j), '010000001000'),\n",
       " (np.complex128(-0.15253406813364292+0j), '010000010000'),\n",
       " (np.complex128(-0.16869036372022123-0j), '010000100000'),\n",
       " (np.complex128(-0.1719717112696907-0j), '100000000001'),\n",
       " (np.complex128(-0.16869036372022125-0j), '100000000010'),\n",
       " (np.complex128(-0.16869036372022128+0j), '100000000100'),\n",
       " (np.complex128(-0.16869036372022117+0j), '100000001000'),\n",
       " (np.complex128(-0.16869036372022125+0j), '100000010000'),\n",
       " (np.complex128(-0.15253406813364295+0j), '100000100000')]"
      ]
     },
     "execution_count": 99,
     "metadata": {},
     "output_type": "execute_result"
    }
   ],
   "source": [
    "ground_state = [(x, f\"{i:012b}\") for i,x in enumerate(eigenvectors[:, 0]) if abs(x) > 1e-2]\n",
    "ground_state"
   ]
  },
  {
   "cell_type": "code",
   "execution_count": null,
   "metadata": {},
   "outputs": [
    {
     "name": "stdout",
     "output_type": "stream",
     "text": [
      "c0:(-0.15253406813364298+0j)\n",
      "c1:(-0.16869036372022123+0j)\n",
      "c2:(-0.17197171126969088+0j)\n"
     ]
    },
    {
     "data": {
      "text/plain": [
       "(np.complex128(-0.16869036372022123+0j), '000001000010')"
      ]
     },
     "execution_count": 117,
     "metadata": {},
     "output_type": "execute_result"
    }
   ],
   "source": [
    "(c0, _) = ground_state[0] # same node\n",
    "c0_elements = [(c, i) for c,i in ground_state if c0-1e-5 < c < c0+1e-5]\n",
    "\n",
    "(c1, _) = ground_state[1] # adjacemt nodes\n",
    "c1_elements = [(c, i) for c,i in ground_state if c1-1e-5 < c < c1+1e-5]\n",
    "\n",
    "(c2, _) = ground_state[19] # oposite nodes\n",
    "c2_elements = [(c, i) for c,i in ground_state if c2-1e-5 < c < c2+1e-5]\n",
    "\n",
    "print(f\"c0:{c0}\")\n",
    "print(f\"c1:{c1}\")\n",
    "print(f\"c2:{c2}\")\n",
    "\n",
    "ground_state[1]"
   ]
  }
 ],
 "metadata": {
  "kernelspec": {
   "display_name": "akimasa-final",
   "language": "python",
   "name": "python3"
  },
  "language_info": {
   "codemirror_mode": {
    "name": "ipython",
    "version": 3
   },
   "file_extension": ".py",
   "mimetype": "text/x-python",
   "name": "python",
   "nbconvert_exporter": "python",
   "pygments_lexer": "ipython3",
   "version": "3.13.3"
  }
 },
 "nbformat": 4,
 "nbformat_minor": 2
}
