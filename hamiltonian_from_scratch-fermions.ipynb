{
 "cells": [
  {
   "cell_type": "markdown",
   "metadata": {},
   "source": [
    "Hamiltonians From Scratch*\n",
    "===========================\n",
    "*Its not really from scratch because I use the FermionicOp class to make it work\n",
    "\n",
    "This is an alternative to the `qiskis_nature` Fermi-Hubbard Hamiltonian. I get the same ground state energies but a different ground state vector. To use this hamiltonian import it from the .py file [here](./defining_the_hamiltonian.py) "
   ]
  },
  {
   "cell_type": "code",
   "execution_count": 2,
   "metadata": {},
   "outputs": [],
   "source": [
    "from qiskit import *\n",
    "from qiskit.quantum_info.operators import SparsePauliOp\n",
    "from qiskit.quantum_info.operators import Pauli\n",
    "from qiskit.quantum_info import Operator\n",
    "from qiskit_nature.second_q.operators import FermionicOp\n",
    "from qiskit_nature.second_q.mappers import JordanWignerMapper\n",
    "\n",
    "import numpy as np\n",
    "from functools import *\n",
    "import scipy.linalg as LA"
   ]
  },
  {
   "cell_type": "code",
   "execution_count": 3,
   "metadata": {},
   "outputs": [],
   "source": [
    "# Fermionic operators that we need\n",
    "creation_ferms = [FermionicOp({f\"+_{i}\":1}) for i in range(0,12)]\n",
    "annihilation_ferms = [FermionicOp({f\"-_{i}\":1}) for i in range(0,12)]\n",
    "number_ferms = [creation_ferms[i] @ annihilation_ferms[i] for i in range(0, 12)]"
   ]
  },
  {
   "cell_type": "code",
   "execution_count": 4,
   "metadata": {},
   "outputs": [],
   "source": [
    "\n",
    "verticies = 6\n",
    "spins = [0,1]\n",
    "edges = [(0,1),(0,2),(0,3),(0,4),\n",
    "         (5,1),(5,2),(5,3),(5,4),\n",
    "         (1,2),(2,3),(3,4),(4,1)]\n",
    "\n",
    "myTensor = lambda a, b: (a)^(b)\n",
    "\n",
    "def swap_electron(edge:tuple[int, int], s:int, verticies:int) -> FermionicOp:\n",
    "    \"\"\"Swaps the electron in spin state s in vertex i and vertex j.\"\"\"\n",
    "    (i, j) = edge\n",
    "    swap_1 = creation_ferms[i+verticies*s] @ annihilation_ferms[j+verticies*s]\n",
    "    swap_2 = creation_ferms[j+verticies*s] @ annihilation_ferms[i+verticies*s]\n",
    "    return swap_1 + swap_2\n",
    "\n",
    "def number_up_down(vertex:int , verticies:int) -> FermionicOp:\n",
    "    return number_ferms[vertex + verticies] @ number_ferms[vertex]\n",
    "\n",
    "total_swap_operator:FermionicOp = reduce(lambda a, b: (a) + (b), \n",
    "                             [swap_electron(edge, s, verticies) for edge in edges for s in spins])\n",
    "total_number_operator:FermionicOp = reduce(lambda a, b: (a) + (b), \n",
    "                               [number_up_down(i, verticies) for i in range(0, verticies)])\n",
    "\n",
    "t = 1\n",
    "u = 1\n",
    "hamiltonian_ferm = -t*total_swap_operator + u*total_number_operator\n",
    "hamiltonian = JordanWignerMapper().map(hamiltonian_ferm)\n"
   ]
  },
  {
   "cell_type": "code",
   "execution_count": 5,
   "metadata": {},
   "outputs": [
    {
     "name": "stdout",
     "output_type": "stream",
     "text": [
      "Dims in hamiltonian: (4096, 4096)\n",
      "hamiltonian hermitian?: True\n"
     ]
    }
   ],
   "source": [
    "print(\"Dims in hamiltonian:\", hamiltonian.dim)\n",
    "print(\"hamiltonian hermitian?:\", Operator(hamiltonian) == Operator(hamiltonian).adjoint())"
   ]
  },
  {
   "cell_type": "code",
   "execution_count": 6,
   "metadata": {},
   "outputs": [],
   "source": [
    "H_matrix = hamiltonian.to_matrix()\n",
    "eigs = LA.eigh(H_matrix)\n"
   ]
  },
  {
   "cell_type": "code",
   "execution_count": 7,
   "metadata": {},
   "outputs": [],
   "source": [
    "eigenvals, eigenvectors = eigs"
   ]
  },
  {
   "cell_type": "code",
   "execution_count": 2,
   "metadata": {},
   "outputs": [
    {
     "ename": "NameError",
     "evalue": "name 'eigenvals' is not defined",
     "output_type": "error",
     "traceback": [
      "\u001b[31m---------------------------------------------------------------------------\u001b[39m",
      "\u001b[31mNameError\u001b[39m                                 Traceback (most recent call last)",
      "\u001b[36mCell\u001b[39m\u001b[36m \u001b[39m\u001b[32mIn[2]\u001b[39m\u001b[32m, line 1\u001b[39m\n\u001b[32m----> \u001b[39m\u001b[32m1\u001b[39m \u001b[38;5;28mprint\u001b[39m(\u001b[43meigenvals\u001b[49m[\u001b[32m26\u001b[39m:\u001b[32m35\u001b[39m])\n\u001b[32m      2\u001b[39m \u001b[38;5;28mprint\u001b[39m(eigenvals[-\u001b[32m10\u001b[39m:])\n",
      "\u001b[31mNameError\u001b[39m: name 'eigenvals' is not defined"
     ]
    }
   ],
   "source": [
    "print(eigenvals[26:35])\n",
    "print(eigenvals[-10:])\n"
   ]
  },
  {
   "cell_type": "code",
   "execution_count": 9,
   "metadata": {},
   "outputs": [
    {
     "data": {
      "text/plain": [
       "[(np.complex128(-0.15253406813364298+0j), '000001000001'),\n",
       " (np.complex128(-0.16869036372022123+0j), '000001000010'),\n",
       " (np.complex128(-0.16869036372022123+0j), '000001000100'),\n",
       " (np.complex128(-0.16869036372022123+0j), '000001001000'),\n",
       " (np.complex128(-0.1686903637202212+0j), '000001010000'),\n",
       " (np.complex128(-0.17197171126969077+0j), '000001100000'),\n",
       " (np.complex128(-0.16869036372022123+0j), '000010000001'),\n",
       " (np.complex128(-0.15253406813364292+0j), '000010000010'),\n",
       " (np.complex128(-0.1686903637202212+0j), '000010000100'),\n",
       " (np.complex128(-0.1719717112696908+0j), '000010001000'),\n",
       " (np.complex128(-0.1686903637202212+0j), '000010010000'),\n",
       " (np.complex128(-0.16869036372022125+0j), '000010100000'),\n",
       " (np.complex128(-0.16869036372022123-0j), '000100000001'),\n",
       " (np.complex128(-0.16869036372022114-0j), '000100000010'),\n",
       " (np.complex128(-0.1525340681336429-0j), '000100000100'),\n",
       " (np.complex128(-0.1686903637202212+0j), '000100001000'),\n",
       " (np.complex128(-0.1719717112696908+0j), '000100010000'),\n",
       " (np.complex128(-0.16869036372022125+0j), '000100100000'),\n",
       " (np.complex128(-0.16869036372022117+0j), '001000000001'),\n",
       " (np.complex128(-0.17197171126969088+0j), '001000000010'),\n",
       " (np.complex128(-0.16869036372022114+0j), '001000000100'),\n",
       " (np.complex128(-0.1525340681336429+0j), '001000001000'),\n",
       " (np.complex128(-0.1686903637202212-0j), '001000010000'),\n",
       " (np.complex128(-0.1686903637202212+0j), '001000100000'),\n",
       " (np.complex128(-0.16869036372022123+0j), '010000000001'),\n",
       " (np.complex128(-0.16869036372022128+0j), '010000000010'),\n",
       " (np.complex128(-0.17197171126969077-0j), '010000000100'),\n",
       " (np.complex128(-0.16869036372022123+0j), '010000001000'),\n",
       " (np.complex128(-0.15253406813364292+0j), '010000010000'),\n",
       " (np.complex128(-0.16869036372022123-0j), '010000100000'),\n",
       " (np.complex128(-0.1719717112696907-0j), '100000000001'),\n",
       " (np.complex128(-0.16869036372022125-0j), '100000000010'),\n",
       " (np.complex128(-0.16869036372022128+0j), '100000000100'),\n",
       " (np.complex128(-0.16869036372022117+0j), '100000001000'),\n",
       " (np.complex128(-0.16869036372022125+0j), '100000010000'),\n",
       " (np.complex128(-0.15253406813364295+0j), '100000100000')]"
      ]
     },
     "execution_count": 9,
     "metadata": {},
     "output_type": "execute_result"
    }
   ],
   "source": [
    "ground_state = [(x, f\"{i:012b}\") for i,x in enumerate(eigenvectors[:, 0]) if abs(x) > 1e-8]\n",
    "(ground_state)"
   ]
  },
  {
   "cell_type": "code",
   "execution_count": 10,
   "metadata": {},
   "outputs": [
    {
     "name": "stdout",
     "output_type": "stream",
     "text": [
      "c0:(-0.15253406813364298+0j)\n",
      "c1:(-0.16869036372022123+0j)\n",
      "c2:(-0.17197171126969088+0j)\n"
     ]
    },
    {
     "data": {
      "text/plain": [
       "(np.complex128(-0.16869036372022123+0j), '000001000010')"
      ]
     },
     "execution_count": 10,
     "metadata": {},
     "output_type": "execute_result"
    }
   ],
   "source": [
    "(c0, _) = ground_state[0] # same node\n",
    "c0_elements = [(c, i) for c,i in ground_state if c0-1e-5 < c < c0+1e-5]\n",
    "\n",
    "(c1, _) = ground_state[1] # adjacemt nodes\n",
    "c1_elements = [(c, i) for c,i in ground_state if c1-1e-5 < c < c1+1e-5]\n",
    "\n",
    "(c2, _) = ground_state[19] # oposite nodes\n",
    "c2_elements = [(c, i) for c,i in ground_state if c2-1e-5 < c < c2+1e-5]\n",
    "\n",
    "print(f\"c0:{c0}\")\n",
    "print(f\"c1:{c1}\")\n",
    "print(f\"c2:{c2}\")\n",
    "\n",
    "ground_state[1]"
   ]
  },
  {
   "cell_type": "code",
   "execution_count": 11,
   "metadata": {},
   "outputs": [
    {
     "data": {
      "text/plain": [
       "0"
      ]
     },
     "execution_count": 11,
     "metadata": {},
     "output_type": "execute_result"
    }
   ],
   "source": [
    "def num_of_ones(s:str) -> int:\n",
    "    return len(list(filter(lambda x: x=='1', s)))\n",
    "\n",
    "len(list(filter(lambda x: x==4, [num_of_ones(s) for c,s in ground_state])))"
   ]
  }
 ],
 "metadata": {
  "kernelspec": {
   "display_name": "akimasa-final",
   "language": "python",
   "name": "python3"
  },
  "language_info": {
   "codemirror_mode": {
    "name": "ipython",
    "version": 3
   },
   "file_extension": ".py",
   "mimetype": "text/x-python",
   "name": "python",
   "nbconvert_exporter": "python",
   "pygments_lexer": "ipython3",
   "version": "3.13.3"
  }
 },
 "nbformat": 4,
 "nbformat_minor": 2
}
