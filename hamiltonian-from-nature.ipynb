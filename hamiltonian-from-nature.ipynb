{
 "cells": [
  {
   "cell_type": "code",
   "execution_count": 52,
   "metadata": {},
   "outputs": [],
   "source": [
    "# from qiskit import *\n",
    "from qiskit.primitives import Estimator\n",
    "\n",
    "from qiskit.quantum_info.operators import SparsePauliOp\n",
    "from qiskit.quantum_info.operators import Pauli\n",
    "from qiskit.quantum_info import Operator\n",
    "from qiskit_nature.second_q.hamiltonians import FermiHubbardModel\n",
    "from qiskit_nature.second_q.hamiltonians.lattices.lattice import Lattice\n",
    "from qiskit_nature.second_q.mappers import JordanWignerMapper\n",
    "from qiskit_nature.second_q.mappers import ParityMapper\n",
    "\n",
    "import numpy as np\n",
    "from functools import *\n",
    "import scipy.linalg as LA"
   ]
  },
  {
   "cell_type": "code",
   "execution_count": 54,
   "metadata": {},
   "outputs": [
    {
     "data": {
      "image/png": "[encoded data removed]",
      "text/plain": [
       "<Figure size 640x480 with 1 Axes>"
      ]
     },
     "metadata": {},
     "output_type": "display_data"
    }
   ],
   "source": [
    "# nodes = 6\n",
    "# edges = [(0,1,-1),(0,2,-1),(0,3,-1),(0,4,-1),\n",
    "#          (5,1,-1),(5,2,-1),(5,3,-1),(5,4,-1),\n",
    "#          (1,2,-1),(2,3,-1),(3,4,-1),(4,1,-1)]\n",
    "# adjacency_matrix = np.array([\n",
    "#     [0., -1., -1., -1., -1., 0.],\n",
    "#     [-1., 0., -1., 0., -1., -1.],\n",
    "#     [-1., -1., 0., -1., 0., -1.],\n",
    "#     [-1., 0., -1., 0., -1., -1.],\n",
    "#     [-1., -1., 0., -1., 0., -1.],\n",
    "#     [0., -1., -1., -1., -1., 0.]])\n",
    "nodes = 2\n",
    "edges = [(0,1,-1), (0,1,-1)]\n",
    "\n",
    "octahedron = Lattice.from_nodes_and_edges(nodes, edges)\n",
    "fermi_hubb = FermiHubbardModel(octahedron, 1)\n",
    "hamiltonian = ParityMapper().map(fermi_hubb.second_q_op())\n",
    "octahedron.draw()"
   ]
  },
  {
   "cell_type": "code",
   "execution_count": 55,
   "metadata": {},
   "outputs": [
    {
     "name": "stdout",
     "output_type": "stream",
     "text": [
      "Dims in hamiltonian: (16, 16)\n",
      "hamiltonian hermitian?: True\n"
     ]
    }
   ],
   "source": [
    "print(\"Dims in hamiltonian:\", hamiltonian.dim)\n",
    "print(\"hamiltonian hermitian?:\", Operator(hamiltonian) == Operator(hamiltonian).adjoint())\n",
    "# hamiltonian\n"
   ]
  },
  {
   "cell_type": "code",
   "execution_count": 58,
   "metadata": {},
   "outputs": [],
   "source": [
    "H_matrix = hamiltonian.to_matrix()\n",
    "eigs = LA.eigh(H_matrix)"
   ]
  },
  {
   "cell_type": "code",
   "execution_count": 59,
   "metadata": {},
   "outputs": [],
   "source": [
    "eigenvals, eigenvectors = eigs\n"
   ]
  },
  {
   "cell_type": "code",
   "execution_count": 60,
   "metadata": {},
   "outputs": [
    {
     "data": {
      "text/plain": [
       "array([-1.56155281e+00, -1.00000000e+00, -1.00000000e+00,  0.00000000e+00,\n",
       "        0.00000000e+00,  0.00000000e+00,  0.00000000e+00,  1.11022302e-15,\n",
       "        1.11022302e-15,  1.00000000e+00,  1.00000000e+00,  1.00000000e+00,\n",
       "        2.00000000e+00,  2.00000000e+00,  2.00000000e+00,  2.56155281e+00])"
      ]
     },
     "execution_count": 60,
     "metadata": {},
     "output_type": "execute_result"
    }
   ],
   "source": [
    "eigenvals"
   ]
  },
  {
   "cell_type": "code",
   "execution_count": 62,
   "metadata": {},
   "outputs": [
    {
     "data": {
      "text/plain": [
       "['0.435162, 0001', '0.435162, 0100', '0.557345, 0111']"
      ]
     },
     "execution_count": 62,
     "metadata": {},
     "output_type": "execute_result"
    }
   ],
   "source": [
    "# ground_state = sorted_eigens[0][1]\n",
    "\n",
    "[(f\"{np.real(a):f}, {i:04b}\") for i,a in enumerate(eigenvectors[:, 0]) if a > 1e-15]\n",
    "# sum([a**2 for i,a in enumerate(ground_state) if a >= 1e-2])\n",
    "# ground_state_dict = {i:v for i, v in enumerate(eigenvectors[:, 0])}\n",
    "\n",
    "# conjugate = np.array([ground_state_dict.get(2**4 - 1 - i, 0) for i in range(0, 2**4)])\n",
    "\n",
    "# [(f\"{np.real(a):f}, {i:04b}\") for i,a in enumerate(conjugate) if a > 1e-15]\n",
    "\n",
    "\n",
    "# ((H_matrix @ conjugate) @ conjugate)/(conjugate @ conjugate)"
   ]
  },
  {
   "cell_type": "code",
   "execution_count": 50,
   "metadata": {},
   "outputs": [
    {
     "data": {
      "text/plain": [
       "array([[ 0.+0.j, -1.+0.j],\n",
       "       [-1.+0.j,  0.+0.j]])"
      ]
     },
     "execution_count": 50,
     "metadata": {},
     "output_type": "execute_result"
    }
   ],
   "source": [
    "fermi_hubb.hopping_matrix()"
   ]
  }
 ],
 "metadata": {
  "kernelspec": {
   "display_name": "akimasa-final",
   "language": "python",
   "name": "python3"
  },
  "language_info": {
   "codemirror_mode": {
    "name": "ipython",
    "version": 3
   },
   "file_extension": ".py",
   "mimetype": "text/x-python",
   "name": "python",
   "nbconvert_exporter": "python",
   "pygments_lexer": "ipython3",
   "version": "3.13.3"
  }
 },
 "nbformat": 4,
 "nbformat_minor": 2
}
